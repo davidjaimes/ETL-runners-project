{
 "cells": [
  {
   "cell_type": "markdown",
   "metadata": {},
   "source": [
    "# Goal: Create Pandas MultiIndex\n",
    "**Introduction:** We have all the data for the 2010 NYC Marathon. Now, we need an easily accessible DataFrame where can extract a runner's individual split information. For this section, we are only focused on the `runnerId` and `splitResults` columns."
   ]
  },
  {
   "cell_type": "code",
   "execution_count": 1,
   "metadata": {},
   "outputs": [
    {
     "data": {
      "text/plain": [
       "runnerId         int64\n",
       "splitResults    object\n",
       "dtype: object"
      ]
     },
     "execution_count": 1,
     "metadata": {},
     "output_type": "execute_result"
    }
   ],
   "source": [
    "import pandas as pd\n",
    "df = pd.read_csv('nyc-marathon-2010.csv')\n",
    "df[['runnerId', 'splitResults']].dtypes"
   ]
  },
  {
   "cell_type": "markdown",
   "metadata": {},
   "source": [
    "**Problem:** There is no problem with the `runnerId` column. It is just a column on integers. The `splitResults` column is the problem area. As of right now, this column's type is that of a string for each row. Things to keep in mind:\n",
    "- Each runner is not going to have an entry for each `splitCode`. Only save those runners that have all 9 splitCodes (i.e., 5K, 10K, 15K, 20K, HALF, 25K, 30K, 35K, 40K)."
   ]
  },
  {
   "cell_type": "markdown",
   "metadata": {},
   "source": [
    "**Advice:** Turn each row in `splitResults` into a DataFrame because it is easier to slice the data into arrays. Once you have a column made up of thousands of Pandas DataFrames, use documentation notes https://pandas.pydata.org/pandas-docs/stable/user_guide/advanced.html on advanced indexing to combine `runnerId` and `splitResults` columns to the following example MultiIndex:"
   ]
  },
  {
   "cell_type": "markdown",
   "metadata": {},
   "source": [
    "```\n",
    "                     time     pace   speed  distance\n",
    "runnerId  splitCode\n",
    "35812     5K         0:16:26  05:18  11.3   3.11\n",
    "          10K        0:32:03  05:10  11.6   6.21\n",
    "          15K        ...\n",
    "          20K        ...\n",
    "          HALF       ...\n",
    "          25K        ...\n",
    "          30K        ...\n",
    "          35K        1:46:32  04:54  12.3   21.75\n",
    "          40K        2:01:54  04:55  12.2   24.85\n",
    "22835     5K         0:31:51  10:15  5.9    3.11\n",
    "          10K        1:04:37  10:24  5.8    6.21\n",
    "          15K        ...\n",
    "          20K        ...\n",
    "          HALF       ...\n",
    "          25K        ...\n",
    "          30K        ...\n",
    "          35K        4:04:27  11:15  5.3    21.75\n",
    "          40K        4:44:50  11.28  5.2    24.85\n",
    "```"
   ]
  },
  {
   "cell_type": "code",
   "execution_count": null,
   "metadata": {},
   "outputs": [],
   "source": [
    "df_list = [pd.DataFrame(eval(row))]"
   ]
  }
 ],
 "metadata": {
  "kernelspec": {
   "display_name": "Python 3",
   "language": "python",
   "name": "python3"
  },
  "language_info": {
   "codemirror_mode": {
    "name": "ipython",
    "version": 3
   },
   "file_extension": ".py",
   "mimetype": "text/x-python",
   "name": "python",
   "nbconvert_exporter": "python",
   "pygments_lexer": "ipython3",
   "version": "3.7.6"
  }
 },
 "nbformat": 4,
 "nbformat_minor": 4
}
